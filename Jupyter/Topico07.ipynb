{
 "cells": [
  {
   "cell_type": "code",
   "execution_count": 4,
   "id": "02484e17-0e8d-4068-8aab-7e68bd20db3d",
   "metadata": {},
   "outputs": [
    {
     "name": "stdin",
     "output_type": "stream",
     "text": [
      "digite o fahrenheit: 150\n"
     ]
    },
    {
     "name": "stdout",
     "output_type": "stream",
     "text": [
      "65.55555555555556\n"
     ]
    }
   ],
   "source": [
    "print(5/9*(eval(input('digite o fahrenheit: '))-32))"
   ]
  },
  {
   "cell_type": "code",
   "execution_count": 7,
   "id": "537a6c00-988f-4a83-9089-dbbe42fe1fc3",
   "metadata": {},
   "outputs": [
    {
     "name": "stdin",
     "output_type": "stream",
     "text": [
      "Digite a temp em fahr:  150\n"
     ]
    },
    {
     "name": "stdout",
     "output_type": "stream",
     "text": [
      "65.55555555555556\n"
     ]
    }
   ],
   "source": [
    "f = eval(input(\"Digite a temp em fahr: \"))\n",
    "c = 5/9*(f-32)\n",
    "print(c)"
   ]
  },
  {
   "cell_type": "code",
   "execution_count": null,
   "id": "d21b7532-a53f-4886-9bd8-58caed0d6434",
   "metadata": {},
   "outputs": [],
   "source": [
    "def funcao(x):\n",
    "    return x**2+1"
   ]
  },
  {
   "cell_type": "code",
   "execution_count": 9,
   "id": "6b66a560-92c6-47ee-a6cd-2247e7119c74",
   "metadata": {},
   "outputs": [
    {
     "name": "stdin",
     "output_type": "stream",
     "text": [
      "Digite a temperatura em fahrenheit:  100\n"
     ]
    },
    {
     "data": {
      "text/plain": [
       "37.77777777777778"
      ]
     },
     "execution_count": 9,
     "metadata": {},
     "output_type": "execute_result"
    }
   ],
   "source": [
    "def celsius(x):\n",
    "    \"\"\"funcao calcula a temperatura em celsius\n",
    "    tres aspas pode quebrar linha\n",
    "    \"\"\"\n",
    "    return 5/9*(x-32)\n",
    "celsius(eval(input(\"Digite a temperatura em fahrenheit: \")))\n"
   ]
  },
  {
   "cell_type": "code",
   "execution_count": 13,
   "id": "8e310a4b-e27e-4bc7-8128-5183b8dad5b3",
   "metadata": {},
   "outputs": [],
   "source": [
    "def trocaPU(ing):\n",
    "    ing[0],ing[-1] = ing[-1], ing[0]\n",
    "\n",
    "ingredientes = ['farinha', 'açucar', 'manteiga', 'maçãs']\n",
    "trocaPU(ingredientes)\n",
    "print(ingredientes)\n"
   ]
  },
  {
   "cell_type": "code",
   "execution_count": null,
   "id": "11fdc670-5ff0-4064-b59a-bb7d4c32214d",
   "metadata": {},
   "outputs": [],
   "source": []
  }
 ],
 "metadata": {
  "kernelspec": {
   "display_name": "Python 3 (ipykernel)",
   "language": "python",
   "name": "python3"
  },
  "language_info": {
   "codemirror_mode": {
    "name": "ipython",
    "version": 3
   },
   "file_extension": ".py",
   "mimetype": "text/x-python",
   "name": "python",
   "nbconvert_exporter": "python",
   "pygments_lexer": "ipython3",
   "version": "3.12.7"
  }
 },
 "nbformat": 4,
 "nbformat_minor": 5
}
