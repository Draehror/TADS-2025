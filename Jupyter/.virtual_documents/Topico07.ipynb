print(5/9*(eval(input('digite o fahrenheit: '))-32))


f = eval(input("Digite a temp em fahr: "))
c = 5/9*(f-32)
print(c)


def funcao(x):
    return x**2+1


def celsius(x):
    """funcao calcula a temperatura em celsius
    tres aspas pode quebrar linha
    """
    return 5/9*(x-32)
celsius(eval(input("Digite a temperatura em fahrenheit: ")))



def trocaPU(ing):
    ing[0],ing[-1] = ing[-1], ing[0]

ingredientes = ['farinha', 'açucar', 'manteiga', 'maçãs']
trocaPU(ingredientes)
print(ingredientes)




