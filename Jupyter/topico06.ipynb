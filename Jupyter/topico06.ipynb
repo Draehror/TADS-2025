{
 "cells": [
  {
   "cell_type": "code",
   "execution_count": 6,
   "id": "e0aa2c31-c4f8-4719-8458-768e8bbe9f32",
   "metadata": {},
   "outputs": [
    {
     "name": "stdout",
     "output_type": "stream",
     "text": [
      "green\n",
      "{'color': 'green', 'points': 5, 'x_pos': 0, 'y_pos': 12}\n"
     ]
    }
   ],
   "source": [
    "alien_0 = {'color' : 'green', 'points' : 5}\n",
    "print(alien_0['color'])\n",
    "alien_0['x_pos'] = 0\n",
    "alien_0['y_pos'] = 12\n",
    "print(alien_0)"
   ]
  },
  {
   "cell_type": "code",
   "execution_count": 7,
   "id": "71ca3951-5920-4c35-942e-06a866db8a37",
   "metadata": {},
   "outputs": [
    {
     "name": "stdout",
     "output_type": "stream",
     "text": [
      "Nenhum nariz\n"
     ]
    },
    {
     "data": {
      "text/plain": [
       "{'color': 'red'}"
      ]
     },
     "execution_count": 7,
     "metadata": {},
     "output_type": "execute_result"
    }
   ],
   "source": [
    "alien_1 = {}\n",
    "alien_1['color'] = 'blue'\n",
    "alien_1['color'] = 'red'\n",
    "alien_1['nose'] = 'yes'\n",
    "del alien_1['nose']\n",
    "print(alien_1.get('nose','Nenhum nariz'))\n",
    "alien_1"
   ]
  },
  {
   "cell_type": "code",
   "execution_count": null,
   "id": "e4bf3447-fe70-44f5-a1a4-902de28d2893",
   "metadata": {},
   "outputs": [],
   "source": [
    "if alien_0['speed'] == 'slow':\n",
    "    x_increment = 1\n",
    "elif alien_0['speed'] == 'medium':\n",
    "    x_increment = 2\n",
    "else:\n",
    "    x_increment = 3"
   ]
  },
  {
   "cell_type": "code",
   "execution_count": 10,
   "id": "cafe3902-4b46-411f-b04a-754acfb0f73a",
   "metadata": {},
   "outputs": [
    {
     "name": "stdout",
     "output_type": "stream",
     "text": [
      "\n",
      "Key: username\n",
      "Value: bob\n",
      "\n",
      "Key: first\n",
      "Value: enrico\n",
      "\n",
      "Key: last\n",
      "Value: fermi\n"
     ]
    }
   ],
   "source": [
    "user_0 = {\n",
    "    'username': 'bob',\n",
    "    'first': 'enrico',\n",
    "    'last': 'fermi',\n",
    "}\n",
    "for key, value in user_0.items():\n",
    "    print(f\"\\nKey: {key}\")\n",
    "    print(f\"Value: {value}\")\n",
    "    #retorna tupla com chave , valor"
   ]
  },
  {
   "cell_type": "code",
   "execution_count": 14,
   "id": "30bcdf39-9726-4ae5-8dec-cf3e680912e5",
   "metadata": {},
   "outputs": [
    {
     "name": "stdout",
     "output_type": "stream",
     "text": [
      "dict_keys(['username', 'first', 'last'])\n",
      "dict_values(['bob', 'enrico', 'fermi'])\n"
     ]
    }
   ],
   "source": [
    "user_0 = {\n",
    "    'username': 'bob',\n",
    "    'first': 'enrico',\n",
    "    'last': 'fermi',\n",
    "}\n",
    "print(user_0.keys())\n",
    "print(user_0.values())"
   ]
  },
  {
   "cell_type": "code",
   "execution_count": 16,
   "id": "94c9f8c1-8822-4666-931f-c1a87fabcdb5",
   "metadata": {},
   "outputs": [
    {
     "data": {
      "text/plain": [
       "{'c', 'java', 'php', 'phython'}"
      ]
     },
     "execution_count": 16,
     "metadata": {},
     "output_type": "execute_result"
    }
   ],
   "source": [
    "languages = {'phython','php','c','java','phython'}\n",
    "languages"
   ]
  },
  {
   "cell_type": "code",
   "execution_count": 17,
   "id": "337e3297-3c8f-4e28-b79b-a3a95068fa0b",
   "metadata": {},
   "outputs": [
    {
     "name": "stdin",
     "output_type": "stream",
     "text": [
      "digite algo a\n"
     ]
    }
   ],
   "source": [
    "message = input(\"digite algo\")"
   ]
  },
  {
   "cell_type": "code",
   "execution_count": 18,
   "id": "c02186db-344a-40c3-9b92-5e6200ce9cd4",
   "metadata": {},
   "outputs": [
    {
     "name": "stdin",
     "output_type": "stream",
     "text": [
      "Qual sua idade? 12\n"
     ]
    },
    {
     "name": "stdout",
     "output_type": "stream",
     "text": [
      "False\n"
     ]
    }
   ],
   "source": [
    "age = input(\"Qual sua idade?\")\n",
    "print(int(age) >= 18)"
   ]
  },
  {
   "cell_type": "code",
   "execution_count": 19,
   "id": "248a047e-db85-465d-a0fc-62362eb48fcd",
   "metadata": {},
   "outputs": [
    {
     "name": "stdout",
     "output_type": "stream",
     "text": [
      "1\n",
      "2\n",
      "3\n",
      "4\n",
      "5\n"
     ]
    }
   ],
   "source": [
    "current_number = 1\n",
    "while current_number <= 5:\n",
    "    print(current_number)\n",
    "    current_number += 1"
   ]
  },
  {
   "cell_type": "code",
   "execution_count": 30,
   "id": "d7162ec5-4156-410c-bda9-53540c764398",
   "metadata": {},
   "outputs": [
    {
     "name": "stdin",
     "output_type": "stream",
     "text": [
      "Digite números para a lista:\n",
      "Digite \"sair\" para sair 1\n",
      "Digite números para a lista:\n",
      "Digite \"sair\" para sair 2\n",
      "Digite números para a lista:\n",
      "Digite \"sair\" para sair 3\n",
      "Digite números para a lista:\n",
      "Digite \"sair\" para sair sair\n"
     ]
    },
    {
     "name": "stdout",
     "output_type": "stream",
     "text": [
      "O total dos números é: 6\n",
      "4 Números foram digitados\n"
     ]
    }
   ],
   "source": [
    "prompt = \"Digite números para a lista:\"\n",
    "prompt += '\\nDigite \"sair\" para sair'\n",
    "\n",
    "message = \"\"\n",
    "lista = []\n",
    "i = 0\n",
    "while message != \"sair\":\n",
    "    message = input(prompt)\n",
    "    if message !=\"sair\":\n",
    "        lista.append(int(message))\n",
    "    i += 1\n",
    "print(\"O total dos números é: \"+str(sum(lista)))\n",
    "print(str(i)+\" Números foram digitados\")"
   ]
  },
  {
   "cell_type": "code",
   "execution_count": 1,
   "id": "eb7cb20b-8df6-4709-b023-d3ef800b13cb",
   "metadata": {},
   "outputs": [
    {
     "name": "stdin",
     "output_type": "stream",
     "text": [
      "Quando terminar digite quit 5\n",
      "Quando terminar digite quit 3\n",
      "Quando terminar digite quit 4\n",
      "Quando terminar digite quit quit\n"
     ]
    },
    {
     "name": "stdout",
     "output_type": "stream",
     "text": [
      "\n",
      "A soma é 12\n",
      "\n",
      "Os três maiores são [3, 4, 5]\n"
     ]
    }
   ],
   "source": [
    "prompt = \"Quando terminar digite quit\"\n",
    "leitura = \"\"\n",
    "numeros =[]\n",
    "while leitura != 'quit':\n",
    "    leitura = input(prompt)\n",
    "    if leitura != 'quit':\n",
    "        numeros.append(int(leitura))\n",
    "\n",
    "print(f\"\\nA soma é {sum(numeros)}\")\n",
    "tres_maiores = sorted(numeros)\n",
    "print(f\"\\nOs três maiores são {tres_maiores[:3]}\")"
   ]
  },
  {
   "cell_type": "code",
   "execution_count": 2,
   "id": "3654efc3-d0a9-49f0-a17c-e36bf5f5d114",
   "metadata": {},
   "outputs": [
    {
     "name": "stdin",
     "output_type": "stream",
     "text": [
      "\n",
      "Por favor, insira o nome da cidade que voce visitou:\n",
      "Digite 'quit' quanto terminar! baia\n"
     ]
    },
    {
     "name": "stdout",
     "output_type": "stream",
     "text": [
      "Eu adoraria ir para Baia!\n"
     ]
    },
    {
     "name": "stdin",
     "output_type": "stream",
     "text": [
      "\n",
      "Por favor, insira o nome da cidade que voce visitou:\n",
      "Digite 'quit' quanto terminar! chapeu\n"
     ]
    },
    {
     "name": "stdout",
     "output_type": "stream",
     "text": [
      "Eu adoraria ir para Chapeu!\n"
     ]
    },
    {
     "name": "stdin",
     "output_type": "stream",
     "text": [
      "\n",
      "Por favor, insira o nome da cidade que voce visitou:\n",
      "Digite 'quit' quanto terminar! quit\n"
     ]
    }
   ],
   "source": [
    "prompt = \"\\nPor favor, insira o nome da cidade que voce visitou:\"\n",
    "prompt += \"\\nDigite 'quit' quanto terminar!\"\n",
    "\n",
    "while True:\n",
    "    city = input(prompt)\n",
    "\n",
    "    if city == 'quit':\n",
    "        break\n",
    "    else:\n",
    "        print(f\"Eu adoraria ir para {city.title()}!\")"
   ]
  },
  {
   "cell_type": "code",
   "execution_count": 5,
   "id": "de89122d-a0b4-4dc6-872c-5aa1923c17b5",
   "metadata": {},
   "outputs": [
    {
     "name": "stdout",
     "output_type": "stream",
     "text": [
      "1\n",
      "3\n",
      "5\n",
      "7\n",
      "9\n"
     ]
    }
   ],
   "source": [
    "current_number = 0\n",
    "\n",
    "while current_number < 10:\n",
    "    current_number += 1\n",
    "    \n",
    "    if current_number%2 == 0:\n",
    "        continue\n",
    "        \n",
    "    print(current_number)"
   ]
  },
  {
   "cell_type": "code",
   "execution_count": 6,
   "id": "8b1f928c-a574-4db0-8aac-cb585bd3b464",
   "metadata": {},
   "outputs": [
    {
     "name": "stdout",
     "output_type": "stream",
     "text": [
      "Verificando o usuario Kuririn\n",
      "Verificando o usuario Zezinho\n",
      "Verificando o usuario Huguinho\n",
      "\n",
      "Os seguintes usuarios foram confirmados\n",
      "Kuririn\n",
      "Zezinho\n",
      "Huguinho\n"
     ]
    }
   ],
   "source": [
    "unconfirmed_users = ['Huguinho','Zezinho','Kuririn']\n",
    "confirmed_users = []\n",
    "\n",
    "while unconfirmed_users:\n",
    "    current_user = unconfirmed_users.pop()\n",
    "    print(f\"Verificando o usuario {current_user.title()}\")\n",
    "    confirmed_users.append(current_user)\n",
    "\n",
    "print(\"\\nOs seguintes usuarios foram confirmados\")\n",
    "\n",
    "for confirmed_user in confirmed_users:\n",
    "    print(confirmed_user.title())"
   ]
  },
  {
   "cell_type": "code",
   "execution_count": 16,
   "id": "116b3f21-a08a-4e1f-ae07-0e788dd8f230",
   "metadata": {},
   "outputs": [
    {
     "name": "stdout",
     "output_type": "stream",
     "text": [
      "['dog', 'cat', 'dog', 'peixin', 'coeio', 'gato', 'cat']\n",
      "['dog', 'dog', 'peixin', 'coeio', 'gato']\n"
     ]
    }
   ],
   "source": [
    "pets = ['dog','cat','dog','peixin','coeio','gato','cat']\n",
    "\n",
    "print(pets)\n",
    "\n",
    "while 'cat' in pets:\n",
    "    pets.remove('cat')\n",
    "\n",
    "print(pets)"
   ]
  },
  {
   "cell_type": "code",
   "execution_count": 18,
   "id": "8e20e629-ebda-475e-a37c-1f6235715cad",
   "metadata": {},
   "outputs": [
    {
     "name": "stdin",
     "output_type": "stream",
     "text": [
      "\n",
      "Qual o seu nome?  bob\n",
      "\n",
      "Qual trilha voce gostaria de fazer? ibit\n",
      "Outra pessoa vai responder? (sim(y)/não(n)) y\n",
      "\n",
      "Qual o seu nome?  zeca\n",
      "\n",
      "Qual trilha voce gostaria de fazer? galoo\n",
      "Outra pessoa vai responder? (sim(y)/não(n)) n\n"
     ]
    },
    {
     "name": "stdout",
     "output_type": "stream",
     "text": [
      "bob gostaria de escalar ibit.\n",
      "zeca gostaria de escalar galoo.\n"
     ]
    }
   ],
   "source": [
    "responses = {}\n",
    "\n",
    "polling_active = True\n",
    "\n",
    "while polling_active:\n",
    "    name = input(\"\\nQual o seu nome? \")\n",
    "    response = input(\"\\nQual trilha voce gostaria de fazer?\")\n",
    "\n",
    "    responses[name] = response\n",
    "\n",
    "    repeat = input(\"Outra pessoa vai responder? (sim(y)/não(n))\")\n",
    "\n",
    "    if repeat == 'n':\n",
    "        polling_active = False\n",
    "\n",
    "for name, response in responses.items():\n",
    "    print(f\"{name} gostaria de escalar {response}.\")"
   ]
  },
  {
   "cell_type": "code",
   "execution_count": null,
   "id": "5a8c8b48-9044-43be-8835-f2ffbf3f2e80",
   "metadata": {},
   "outputs": [],
   "source": []
  }
 ],
 "metadata": {
  "kernelspec": {
   "display_name": "Python 3 (ipykernel)",
   "language": "python",
   "name": "python3"
  },
  "language_info": {
   "codemirror_mode": {
    "name": "ipython",
    "version": 3
   },
   "file_extension": ".py",
   "mimetype": "text/x-python",
   "name": "python",
   "nbconvert_exporter": "python",
   "pygments_lexer": "ipython3",
   "version": "3.12.7"
  }
 },
 "nbformat": 4,
 "nbformat_minor": 5
}
