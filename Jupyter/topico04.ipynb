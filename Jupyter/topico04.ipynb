{
 "cells": [
  {
   "cell_type": "code",
   "execution_count": 6,
   "id": "b6d3db91-856d-4071-86ca-ba8c3cf7324a",
   "metadata": {},
   "outputs": [
    {
     "data": {
      "text/plain": [
       "[[1, 2, 3], [2, 4, 6], [3, 6, 9]]"
      ]
     },
     "execution_count": 6,
     "metadata": {},
     "output_type": "execute_result"
    }
   ],
   "source": [
    "matriz = []\n",
    "for i in range(1,4):\n",
    "    lista = []\n",
    "    for j in range(1,4):\n",
    "        lista.append(i*j)\n",
    "    matriz.append(lista)\n",
    "matriz"
   ]
  },
  {
   "cell_type": "code",
   "execution_count": 10,
   "id": "3b24702b-19ff-4086-9b07-8a1494ba5e11",
   "metadata": {},
   "outputs": [
    {
     "name": "stdout",
     "output_type": "stream",
     "text": [
      "['martina', 'michael', 'florence']\n",
      "['charles', 'martina', 'michael']\n",
      "['michael', 'florence', 'eli']\n"
     ]
    }
   ],
   "source": [
    "players = ['charles', 'martina', 'michael', 'florence', 'eli']\n",
    "print(players[1:4])\n",
    "print(players[:3])\n",
    "print(players[2:])"
   ]
  },
  {
   "cell_type": "code",
   "execution_count": 11,
   "id": "0319caaa-5d02-41ab-b940-1e7ba36ef944",
   "metadata": {},
   "outputs": [
    {
     "data": {
      "text/plain": [
       "21"
      ]
     },
     "execution_count": 11,
     "metadata": {},
     "output_type": "execute_result"
    }
   ],
   "source": [
    "notas = [7,6,8,9,3,7,5,5]\n",
    "sum(notas[:3])"
   ]
  },
  {
   "cell_type": "code",
   "execution_count": 16,
   "id": "d918c7d0-7a7d-4d3c-b025-d311b29533b8",
   "metadata": {},
   "outputs": [
    {
     "name": "stdout",
     "output_type": "stream",
     "text": [
      "['lasanha', 'lamen', 'churrasco', 'sorvete']\n",
      "['lasanha', 'lamen', 'churrasco', 'guarana']\n",
      "['lasanha', 'lamen', 'churrasco', 'sorvete']\n",
      "2072220846016\n",
      "2072220846016\n"
     ]
    }
   ],
   "source": [
    "my_foods = ['lasanha', 'lamen', 'churrasco']\n",
    "fav_foods = my_foods[0:3]\n",
    "my_foods.append('sorvete')\n",
    "fav_foods.append('guarana')\n",
    "print(my_foods)\n",
    "print(fav_foods)\n",
    "copiafoods = my_foods\n",
    "print(copiafoods)\n",
    "print(id(my_foods))\n",
    "print(id(copiafoods))"
   ]
  },
  {
   "cell_type": "code",
   "execution_count": 17,
   "id": "fe6f398d-dc3b-48a3-b88d-f5afc307a6ed",
   "metadata": {},
   "outputs": [
    {
     "name": "stdout",
     "output_type": "stream",
     "text": [
      "(3, 1)\n"
     ]
    }
   ],
   "source": [
    "def calcular_divisao_e_resto(a,b):\n",
    "    return a // b, a % b \n",
    "# ou return (a // b, a % b) oq define uma tupla é a virgula\n",
    "resultado = calcular_divisao_e_resto(10,3)\n",
    "print(resultado)"
   ]
  },
  {
   "cell_type": "code",
   "execution_count": 19,
   "id": "fe26a1a2-f3e1-4d12-9e6d-d7fba9830a79",
   "metadata": {},
   "outputs": [
    {
     "name": "stdout",
     "output_type": "stream",
     "text": [
      "3\n",
      "1\n"
     ]
    }
   ],
   "source": [
    "def calcular_divisao_e_resto(a,b):\n",
    "    return a // b, a % b \n",
    "# ou return (a // b, a % b) \n",
    "resultado, resto = calcular_divisao_e_resto(10,3)\n",
    "print(resultado)\n",
    "print(resto)"
   ]
  },
  {
   "cell_type": "code",
   "execution_count": null,
   "id": "8ba50f85-3cee-4512-8864-69d7257094c2",
   "metadata": {},
   "outputs": [],
   "source": []
  }
 ],
 "metadata": {
  "kernelspec": {
   "display_name": "Python 3 (ipykernel)",
   "language": "python",
   "name": "python3"
  },
  "language_info": {
   "codemirror_mode": {
    "name": "ipython",
    "version": 3
   },
   "file_extension": ".py",
   "mimetype": "text/x-python",
   "name": "python",
   "nbconvert_exporter": "python",
   "pygments_lexer": "ipython3",
   "version": "3.12.7"
  }
 },
 "nbformat": 4,
 "nbformat_minor": 5
}
