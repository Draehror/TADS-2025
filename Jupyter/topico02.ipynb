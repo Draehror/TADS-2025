{
 "cells": [
  {
   "cell_type": "markdown",
   "id": "1f746089-30fb-4bda-a1a8-5b7741e418a8",
   "metadata": {},
   "source": [
    "esc M = markdown esc y = code // cada celula é independente\n",
    "del variavel = deleta a variavel\n",
    "x, y, z = 0, 1, 3"
   ]
  },
  {
   "cell_type": "code",
   "execution_count": 3,
   "id": "8b798ade-a5c3-4798-b851-ab4ab6e40d14",
   "metadata": {},
   "outputs": [
    {
     "data": {
      "text/plain": [
       "63.617251235400005"
      ]
     },
     "execution_count": 3,
     "metadata": {},
     "output_type": "execute_result"
    }
   ],
   "source": [
    "pi = 3.1415926536\n",
    "radius = 4.5\n",
    "area = pi * (radius ** 2)\n",
    "area"
   ]
  },
  {
   "cell_type": "code",
   "execution_count": 4,
   "id": "51391e43-6f5f-456c-9e0a-cad65ad83555",
   "metadata": {},
   "outputs": [
    {
     "data": {
      "text/plain": [
       "sys.float_info(max=1.7976931348623157e+308, max_exp=1024, max_10_exp=308, min=2.2250738585072014e-308, min_exp=-1021, min_10_exp=-307, dig=15, mant_dig=53, epsilon=2.220446049250313e-16, radix=2, rounds=1)"
      ]
     },
     "execution_count": 4,
     "metadata": {},
     "output_type": "execute_result"
    }
   ],
   "source": [
    "import sys\n",
    "sys.float_info"
   ]
  },
  {
   "cell_type": "code",
   "execution_count": 6,
   "id": "53c39338-fad9-45f7-b5b0-c46469191565",
   "metadata": {},
   "outputs": [
    {
     "data": {
      "text/plain": [
       "2.73"
      ]
     },
     "execution_count": 6,
     "metadata": {},
     "output_type": "execute_result"
    }
   ],
   "source": [
    "c = 3.14 + 2.73j\n",
    "c.real\n",
    "c.imag"
   ]
  },
  {
   "cell_type": "code",
   "execution_count": 8,
   "id": "d69db827-6925-4845-af11-089bbc6a80ac",
   "metadata": {},
   "outputs": [
    {
     "data": {
      "text/plain": [
       "8.75"
      ]
     },
     "execution_count": 8,
     "metadata": {},
     "output_type": "execute_result"
    }
   ],
   "source": [
    "d = complex(2.45, 8.75)\n",
    "c = 3.14 + 2.73j\n",
    "d.imag\n",
    "d "
   ]
  },
  {
   "cell_type": "code",
   "execution_count": 15,
   "id": "b5cb7f47-cecd-4121-b372-41e506163129",
   "metadata": {},
   "outputs": [
    {
     "data": {
      "text/plain": [
       "Fraction(31, 250)"
      ]
     },
     "execution_count": 15,
     "metadata": {},
     "output_type": "execute_result"
    }
   ],
   "source": [
    "from fractions import Fraction\n",
    "f = Fraction(10, 6)\n",
    "f.numerator\n",
    "f.denominator\n",
    "g = Fraction(5,8)\n",
    "f*g\n",
    "f.as_integer_ratio()\n",
    "Fraction(\"0.124\")"
   ]
  },
  {
   "cell_type": "code",
   "execution_count": 16,
   "id": "7bc9a830-3db9-4e87-888f-91b18bebdd63",
   "metadata": {},
   "outputs": [
    {
     "data": {
      "text/plain": [
       "Decimal('3.140000000000000124344978758017532527446746826171875')"
      ]
     },
     "execution_count": 16,
     "metadata": {},
     "output_type": "execute_result"
    }
   ],
   "source": [
    "from decimal import Decimal as D\n",
    "D(3.14)"
   ]
  },
  {
   "cell_type": "code",
   "execution_count": 19,
   "id": "57e21f00-9723-4ae6-8bb8-ef9789f2db42",
   "metadata": {},
   "outputs": [
    {
     "name": "stdout",
     "output_type": "stream",
     "text": [
      "Josper Augustus\n",
      "JOSPER AUGUSTUS\n",
      "josper augustus\n"
     ]
    }
   ],
   "source": [
    "name = \"josper augustus\"\n",
    "\n",
    "print(name.title())\n",
    "print(name.upper())\n",
    "print(name.lower())"
   ]
  },
  {
   "cell_type": "code",
   "execution_count": 26,
   "id": "29331b30-b2b5-4ed5-acff-e5d33d48a4da",
   "metadata": {},
   "outputs": [
    {
     "name": "stdout",
     "output_type": "stream",
     "text": [
      "Fala \n",
      "\tBob Jordan! \n",
      "Mano das quebradas\n"
     ]
    }
   ],
   "source": [
    "first_name = \"bob\"\n",
    "last_name = \"jordan\"\n",
    "full_name = f\"{first_name} {last_name}\"\n",
    "message = f\"Fala \\n\\t{full_name.title()}! \\nMano das quebradas\"\n",
    "print(message)"
   ]
  },
  {
   "cell_type": "code",
   "execution_count": 30,
   "id": "d77169dc-bfee-4009-933c-063ee950586c",
   "metadata": {},
   "outputs": [
    {
     "data": {
      "text/plain": [
       "'python'"
      ]
     },
     "execution_count": 30,
     "metadata": {},
     "output_type": "execute_result"
    }
   ],
   "source": [
    "favorite_language = \" python \"\n",
    "favorite_language.rstrip()\n",
    "favorite_language.lstrip()\n",
    "favorite_language.strip()\n"
   ]
  },
  {
   "cell_type": "code",
   "execution_count": 31,
   "id": "6957c5b4-2d7c-4ed4-a35b-1d2a2c3d929e",
   "metadata": {},
   "outputs": [
    {
     "data": {
      "text/plain": [
       "'tads.com'"
      ]
     },
     "execution_count": 31,
     "metadata": {},
     "output_type": "execute_result"
    }
   ],
   "source": [
    "tads_url = \"https://tads.com\"\n",
    "tads_url.removeprefix(\"https://\")"
   ]
  },
  {
   "cell_type": "code",
   "execution_count": 32,
   "id": "a23c412f-aac7-43b9-9560-3e242e6a6374",
   "metadata": {},
   "outputs": [
    {
     "name": "stdout",
     "output_type": "stream",
     "text": [
      "1\n"
     ]
    }
   ],
   "source": [
    "x, y, z = 0, 1, 3\n",
    "print(y)"
   ]
  },
  {
   "cell_type": "code",
   "execution_count": 33,
   "id": "d3e9ef2a-91fb-4367-a961-b2782f62992f",
   "metadata": {},
   "outputs": [
    {
     "name": "stdout",
     "output_type": "stream",
     "text": [
      "20\n",
      "10\n"
     ]
    }
   ],
   "source": [
    "x = 10\n",
    "y = 20\n",
    "x, y = y,x\n",
    "print(x)\n",
    "print(y)"
   ]
  },
  {
   "cell_type": "code",
   "execution_count": null,
   "id": "8f68a129-87b6-4e70-b278-dcaccd47b514",
   "metadata": {},
   "outputs": [],
   "source": []
  }
 ],
 "metadata": {
  "kernelspec": {
   "display_name": "Python 3 (ipykernel)",
   "language": "python",
   "name": "python3"
  },
  "language_info": {
   "codemirror_mode": {
    "name": "ipython",
    "version": 3
   },
   "file_extension": ".py",
   "mimetype": "text/x-python",
   "name": "python",
   "nbconvert_exporter": "python",
   "pygments_lexer": "ipython3",
   "version": "3.12.7"
  }
 },
 "nbformat": 4,
 "nbformat_minor": 5
}
