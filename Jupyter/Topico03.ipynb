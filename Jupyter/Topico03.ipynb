{
 "cells": [
  {
   "cell_type": "code",
   "execution_count": 1,
   "id": "bc4cb0ee-b071-441e-b17d-44ee771bb114",
   "metadata": {},
   "outputs": [
    {
     "data": {
      "text/plain": [
       "['track', 'sport', 'mountain', 'city']"
      ]
     },
     "execution_count": 1,
     "metadata": {},
     "output_type": "execute_result"
    }
   ],
   "source": [
    "bicicletas = ['track','sport','mountain','city']\n",
    "bicicletas"
   ]
  },
  {
   "cell_type": "code",
   "execution_count": 2,
   "id": "9ba74d47-50b0-4661-834f-5b06d5fd4ac3",
   "metadata": {},
   "outputs": [
    {
     "data": {
      "text/plain": [
       "'mountain'"
      ]
     },
     "execution_count": 2,
     "metadata": {},
     "output_type": "execute_result"
    }
   ],
   "source": [
    "bicicletas = ['track','sport','mountain','city']\n",
    "bicicletas[2]"
   ]
  },
  {
   "cell_type": "code",
   "execution_count": 3,
   "id": "00944f4e-14b9-43fc-aae8-ea29f2f19520",
   "metadata": {},
   "outputs": [
    {
     "data": {
      "text/plain": [
       "['track', 'bmx', 'mountain', 'city']"
      ]
     },
     "execution_count": 3,
     "metadata": {},
     "output_type": "execute_result"
    }
   ],
   "source": [
    "bike = 'bmx'\n",
    "bicicletas = ['track',bike,'mountain','city']\n",
    "bicicletas"
   ]
  },
  {
   "cell_type": "code",
   "execution_count": 7,
   "id": "5a1d3ad5-ca55-404f-a503-95d7d4ab10f0",
   "metadata": {},
   "outputs": [
    {
     "data": {
      "text/plain": [
       "'SPORT'"
      ]
     },
     "execution_count": 7,
     "metadata": {},
     "output_type": "execute_result"
    }
   ],
   "source": [
    "bicicletas = ['track','sport','mountain','city']\n",
    "bicicletas[-3].upper()"
   ]
  },
  {
   "cell_type": "code",
   "execution_count": 8,
   "id": "9f8ab289-d163-46cc-901c-91edd1ce8b7c",
   "metadata": {},
   "outputs": [
    {
     "data": {
      "text/plain": [
       "['Caloi', 'sport', 'mountain', 'city']"
      ]
     },
     "execution_count": 8,
     "metadata": {},
     "output_type": "execute_result"
    }
   ],
   "source": [
    "bicicletas = ['track','sport','mountain','city']\n",
    "bicicletas[0] = 'Caloi'\n",
    "bicicletas"
   ]
  },
  {
   "cell_type": "code",
   "execution_count": 10,
   "id": "6dca09a1-c1ae-4b50-bd1e-b0b8855cb39b",
   "metadata": {},
   "outputs": [
    {
     "data": {
      "text/plain": [
       "['track', 'sport', 'mountain', 'city', 'Caloi']"
      ]
     },
     "execution_count": 10,
     "metadata": {},
     "output_type": "execute_result"
    }
   ],
   "source": [
    "bicicletas = ['track','sport','mountain','city']\n",
    "bicicletas.append('Caloi')\n",
    "bicicletas"
   ]
  },
  {
   "cell_type": "code",
   "execution_count": 11,
   "id": "6dae1ece-5775-4a4c-b40f-632c5034ef44",
   "metadata": {},
   "outputs": [
    {
     "data": {
      "text/plain": [
       "['Caloi', 'track', 'sport', 'mountain', 'city']"
      ]
     },
     "execution_count": 11,
     "metadata": {},
     "output_type": "execute_result"
    }
   ],
   "source": [
    "bicicletas = ['track','sport','mountain','city']\n",
    "bicicletas.insert(0,'Caloi')\n",
    "bicicletas"
   ]
  },
  {
   "cell_type": "code",
   "execution_count": 12,
   "id": "9ac3d940-4714-42bb-904d-c3a0758e72f0",
   "metadata": {},
   "outputs": [
    {
     "data": {
      "text/plain": [
       "['track', 'mountain', 'city']"
      ]
     },
     "execution_count": 12,
     "metadata": {},
     "output_type": "execute_result"
    }
   ],
   "source": [
    "bicicletas = ['track','sport','mountain','city']\n",
    "del bicicletas[1]\n",
    "bicicletas"
   ]
  },
  {
   "cell_type": "code",
   "execution_count": 13,
   "id": "7c263367-cc23-47e7-9f45-eaf82e9af5a3",
   "metadata": {},
   "outputs": [
    {
     "data": {
      "text/plain": [
       "['track', 'sport', 'mountain']"
      ]
     },
     "execution_count": 13,
     "metadata": {},
     "output_type": "execute_result"
    }
   ],
   "source": [
    "bicicletas = ['track','sport','mountain','city']\n",
    "bicicletas.pop()\n",
    "bicicletas"
   ]
  },
  {
   "cell_type": "code",
   "execution_count": 2,
   "id": "9c597d35-0a29-47ff-9d12-b47b6e287fce",
   "metadata": {},
   "outputs": [
    {
     "data": {
      "text/plain": [
       "['track', 'mountain', 'city', 'sport']"
      ]
     },
     "execution_count": 2,
     "metadata": {},
     "output_type": "execute_result"
    }
   ],
   "source": [
    "bicicletas = ['track','sport','mountain','city','sport']\n",
    "bicicletas.remove('sport')\n",
    "bicicletas"
   ]
  },
  {
   "cell_type": "code",
   "execution_count": 3,
   "id": "363a72af-24fe-4ec3-9a7b-180bb33fbeb1",
   "metadata": {},
   "outputs": [
    {
     "data": {
      "text/plain": [
       "['city', 'mountain', 'sport', 'sport', 'track']"
      ]
     },
     "execution_count": 3,
     "metadata": {},
     "output_type": "execute_result"
    }
   ],
   "source": [
    "bicicletas = ['track','sport','mountain','city','sport']\n",
    "bicicletas.sort()\n",
    "bicicletas"
   ]
  },
  {
   "cell_type": "code",
   "execution_count": 4,
   "id": "a087352c-946f-4af0-8731-a1a9416f5f6e",
   "metadata": {},
   "outputs": [
    {
     "data": {
      "text/plain": [
       "['track', 'sport', 'sport', 'mountain', 'city']"
      ]
     },
     "execution_count": 4,
     "metadata": {},
     "output_type": "execute_result"
    }
   ],
   "source": [
    "bicicletas = ['track','sport','mountain','city','sport']\n",
    "bicicletas.sort(reverse=True)\n",
    "bicicletas"
   ]
  },
  {
   "cell_type": "code",
   "execution_count": 6,
   "id": "7793c479-cf17-419a-a8e7-9953bb6cb199",
   "metadata": {},
   "outputs": [
    {
     "name": "stdout",
     "output_type": "stream",
     "text": [
      "['city', 'mountain', 'sport', 'sport', 'track']\n",
      "['track', 'sport', 'mountain', 'city', 'sport']\n"
     ]
    }
   ],
   "source": [
    "bicicletas = ['track','sport','mountain','city','sport']\n",
    "print(sorted(bicicletas))\n",
    "print(bicicletas)"
   ]
  },
  {
   "cell_type": "code",
   "execution_count": 7,
   "id": "f2019576-fc1a-4704-9046-633a4357977d",
   "metadata": {},
   "outputs": [
    {
     "data": {
      "text/plain": [
       "['Huguinho', 'luizinho', 'zezinho']"
      ]
     },
     "execution_count": 7,
     "metadata": {},
     "output_type": "execute_result"
    }
   ],
   "source": [
    "sobrinhos = ['Huguinho','zezinho','luizinho']\n",
    "sobrinhos.sort()\n",
    "sobrinhos"
   ]
  },
  {
   "cell_type": "code",
   "execution_count": 8,
   "id": "cc846b6d-2c5e-4417-a0ce-b89b08b98149",
   "metadata": {},
   "outputs": [
    {
     "data": {
      "text/plain": [
       "['Huguinho', 'luizinho', 'zezinho']"
      ]
     },
     "execution_count": 8,
     "metadata": {},
     "output_type": "execute_result"
    }
   ],
   "source": [
    "sobrinhos = ['Huguinho','zezinho','luizinho']\n",
    "lista_ordenada = sorted(sobrinhos, key=str.lower)\n",
    "lista_ordenada"
   ]
  },
  {
   "cell_type": "code",
   "execution_count": 12,
   "id": "0ad96aed-dab7-40a4-888a-b28c112b9ec4",
   "metadata": {},
   "outputs": [
    {
     "name": "stdout",
     "output_type": "stream",
     "text": [
      "3\n"
     ]
    },
    {
     "data": {
      "text/plain": [
       "['luizinho', 'zezinho', 'Huguinho']"
      ]
     },
     "execution_count": 12,
     "metadata": {},
     "output_type": "execute_result"
    }
   ],
   "source": [
    "sobrinhos = ['Huguinho','zezinho','luizinho']\n",
    "sobrinhos.reverse()\n",
    "print(len(sobrinhos))\n",
    "sobrinhos"
   ]
  },
  {
   "cell_type": "code",
   "execution_count": 13,
   "id": "30b53a66-d341-4399-bf95-6658c24b7450",
   "metadata": {},
   "outputs": [
    {
     "name": "stdout",
     "output_type": "stream",
     "text": [
      "alice\n",
      "david\n",
      "carolina\n"
     ]
    }
   ],
   "source": [
    "magicians = ['alice','david','carolina']\n",
    "\n",
    "for magician in magicians:\n",
    "    print(magician)"
   ]
  },
  {
   "cell_type": "code",
   "execution_count": 16,
   "id": "8ca3b462-ac10-4c5d-828a-91847fb9c836",
   "metadata": {},
   "outputs": [
    {
     "name": "stdout",
     "output_type": "stream",
     "text": [
      "Alice, foi um otimo truque\n",
      "Mal posso esperar pelo seu proximo truque Alice.\n",
      "\n",
      "David, foi um otimo truque\n",
      "Mal posso esperar pelo seu proximo truque David.\n",
      "\n",
      "Carolina, foi um otimo truque\n",
      "Mal posso esperar pelo seu proximo truque Carolina.\n",
      "\n"
     ]
    }
   ],
   "source": [
    "magicians = ['alice','david','carolina']\n",
    "\n",
    "for magician in magicians:\n",
    "    print(f\"{magician.title()}, foi um otimo truque\")\n",
    "    print(f\"Mal posso esperar pelo seu proximo truque {magician.title()}.\\n\")"
   ]
  },
  {
   "cell_type": "code",
   "execution_count": 19,
   "id": "9ee23fae-eec1-4ddb-b608-64348cb0d52f",
   "metadata": {},
   "outputs": [
    {
     "name": "stdout",
     "output_type": "stream",
     "text": [
      "-1\n",
      "0\n",
      "1\n",
      "2\n",
      "3\n",
      "4\n"
     ]
    }
   ],
   "source": [
    "for value in range(-1,5):\n",
    "   print(value)"
   ]
  },
  {
   "cell_type": "code",
   "execution_count": 20,
   "id": "aeb11eb5-6ed2-4f55-b87a-bd2fcf2ae4f4",
   "metadata": {},
   "outputs": [
    {
     "data": {
      "text/plain": [
       "[1, 2, 3, 4, 5]"
      ]
     },
     "execution_count": 20,
     "metadata": {},
     "output_type": "execute_result"
    }
   ],
   "source": [
    "numeros = list(range(1,6))\n",
    "numeros"
   ]
  },
  {
   "cell_type": "code",
   "execution_count": 22,
   "id": "055adeb9-82b2-4406-a672-6c33845e050e",
   "metadata": {},
   "outputs": [
    {
     "data": {
      "text/plain": [
       "[2, 4, 6, 8, 10, 12, 14, 16]"
      ]
     },
     "execution_count": 22,
     "metadata": {},
     "output_type": "execute_result"
    }
   ],
   "source": [
    "numeros_pares = list(range(2,17, 2))\n",
    "numeros_pares"
   ]
  },
  {
   "cell_type": "code",
   "execution_count": 28,
   "id": "bcacdd53-e6b9-4b7d-8c55-22f5c6fcc98e",
   "metadata": {},
   "outputs": [
    {
     "name": "stdout",
     "output_type": "stream",
     "text": [
      "[1, 4, 9, 16, 25, 36, 49, 64, 81, 100]\n",
      "1\n",
      "100\n",
      "385\n",
      "49995000\n"
     ]
    }
   ],
   "source": [
    "squares = []\n",
    "\n",
    "for value in range(1,11):\n",
    "    square = value ** 2\n",
    "    squares.append(square)\n",
    "\n",
    "print(squares)\n",
    "print(min(squares))\n",
    "print(max(squares))\n",
    "print(sum(squares))\n",
    "print(sum(list(range(1,10000))))"
   ]
  },
  {
   "cell_type": "code",
   "execution_count": 29,
   "id": "a844d1bf-b091-4ade-85f9-ca1edec5ad2f",
   "metadata": {},
   "outputs": [
    {
     "data": {
      "text/plain": [
       "[1, 4, 9, 16, 25, 36, 49, 64, 81, 100]"
      ]
     },
     "execution_count": 29,
     "metadata": {},
     "output_type": "execute_result"
    }
   ],
   "source": [
    "squares = [value ** 2 for value in range(1,11)]\n",
    "squares"
   ]
  },
  {
   "cell_type": "code",
   "execution_count": null,
   "id": "b621aa98-7a96-47c7-98c5-2d7682f46a47",
   "metadata": {},
   "outputs": [],
   "source": []
  }
 ],
 "metadata": {
  "kernelspec": {
   "display_name": "Python 3 (ipykernel)",
   "language": "python",
   "name": "python3"
  },
  "language_info": {
   "codemirror_mode": {
    "name": "ipython",
    "version": 3
   },
   "file_extension": ".py",
   "mimetype": "text/x-python",
   "name": "python",
   "nbconvert_exporter": "python",
   "pygments_lexer": "ipython3",
   "version": "3.12.7"
  }
 },
 "nbformat": 4,
 "nbformat_minor": 5
}
