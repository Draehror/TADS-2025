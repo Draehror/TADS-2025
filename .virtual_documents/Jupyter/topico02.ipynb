


pi = 3.1415926536
radius = 4.5
area = pi * (radius ** 2)
area


import sys
sys.float_info


c = 3.14 + 2.73j
c.real
c.imag


d = complex(2.45, 8.75)
c = 3.14 + 2.73j
d.imag
d 


from fractions import Fraction
f = Fraction(10, 6)
f.numerator
f.denominator
g = Fraction(5,8)
f*g
f.as_integer_ratio()
Fraction("0.124")


from decimal import Decimal as D
D(3.14)


name = "josper augustus"

print(name.title())
print(name.upper())
print(name.lower())


first_name = "bob"
last_name = "jordan"
full_name = f"{first_name} {last_name}"
message = f"Fala \n\t{full_name.title()}! \nMano das quebradas"
print(message)


favorite_language = " python "
favorite_language.rstrip()
favorite_language.lstrip()
favorite_language.strip()



tads_url = "https://tads.com"
tads_url.removeprefix("https://")


x, y, z = 0, 1, 3
print(y)


x = 10
y = 20
x, y = y,x
print(x)
print(y)



