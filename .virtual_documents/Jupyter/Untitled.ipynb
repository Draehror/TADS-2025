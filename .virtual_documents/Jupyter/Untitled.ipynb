matriz = []
for i in range(1,4):
    lista = []
    for j in range(1,4):
        lista.append(i*j)
    matriz.append(lista)
matriz


players = ['charles', 'martina', 'michael', 'florence', 'eli']
print(players[1:4])
print(players[:3])
print(players[2:])


notas = [7,6,8,9,3,7,5,5]
sum(notas[:3])


my_foods = ['lasanha', 'lamen', 'churrasco']
fav_foods = my_foods[0:3]
my_foods.append('sorvete')
fav_foods.append('guarana')
print(my_foods)
print(fav_foods)
copiafoods = my_foods
print(copiafoods)
print(id(my_foods))
print(id(copiafoods))


def calcular_divisao_e_resto(a,b):
    return a // b, a % b 
# ou return (a // b, a % b) 
resultado = calcular_divisao_e_resto(10,3)
print(resultado)


def calcular_divisao_e_resto(a,b):
    return a // b, a % b 
# ou return (a // b, a % b) 
resultado, resto = calcular_divisao_e_resto(10,3)
print(resultado)



