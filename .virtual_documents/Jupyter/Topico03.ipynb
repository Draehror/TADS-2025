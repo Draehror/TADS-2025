bicicletas = ['track','sport','mountain','city']
bicicletas


bicicletas = ['track','sport','mountain','city']
bicicletas[2]


bike = 'bmx'
bicicletas = ['track',bike,'mountain','city']
bicicletas


bicicletas = ['track','sport','mountain','city']
bicicletas[-3].upper()


bicicletas = ['track','sport','mountain','city']
bicicletas[0] = 'Caloi'
bicicletas


bicicletas = ['track','sport','mountain','city']
bicicletas.append('Caloi')
bicicletas


bicicletas = ['track','sport','mountain','city']
bicicletas.insert(0,'Caloi')
bicicletas


bicicletas = ['track','sport','mountain','city']
del bicicletas[1]
bicicletas


bicicletas = ['track','sport','mountain','city']
bicicletas.pop()
bicicletas


bicicletas = ['track','sport','mountain','city','sport']
bicicletas.remove('sport')
bicicletas


bicicletas = ['track','sport','mountain','city','sport']
bicicletas.sort()
bicicletas


bicicletas = ['track','sport','mountain','city','sport']
bicicletas.sort(reverse=True)
bicicletas


bicicletas = ['track','sport','mountain','city','sport']
print(sorted(bicicletas))
print(bicicletas)


sobrinhos = ['Huguinho','zezinho','luizinho']
sobrinhos.sort()
sobrinhos


sobrinhos = ['Huguinho','zezinho','luizinho']
lista_ordenada = sorted(sobrinhos, key=str.lower)
lista_ordenada


sobrinhos = ['Huguinho','zezinho','luizinho']
sobrinhos.reverse()
print(len(sobrinhos))
sobrinhos


magicians = ['alice','david','carolina']

for magician in magicians:
    print(magician)


magicians = ['alice','david','carolina']

for magician in magicians:
    print(f"{magician.title()}, foi um otimo truque")
    print(f"Mal posso esperar pelo seu proximo truque {magician.title()}.\n")


for value in range(-1,5):
   print(value)


numeros = list(range(1,6))
numeros


numeros_pares = list(range(2,17, 2))
numeros_pares


squares = []

for value in range(1,11):
    square = value ** 2
    squares.append(square)

print(squares)
print(min(squares))
print(max(squares))
print(sum(squares))
print(sum(list(range(1,10000))))


squares = [value ** 2 for value in range(1,11)]
squares



